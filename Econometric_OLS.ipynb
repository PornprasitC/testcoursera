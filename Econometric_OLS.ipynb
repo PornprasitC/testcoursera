{
 "cells": [
  {
   "cell_type": "code",
   "execution_count": 24,
   "metadata": {},
   "outputs": [],
   "source": [
    "import pandas as pd\n",
    "import numpy as np\n"
   ]
  },
  {
   "cell_type": "code",
   "execution_count": 25,
   "metadata": {},
   "outputs": [],
   "source": [
    "%%capture\n",
    "pip install statsmodels"
   ]
  },
  {
   "cell_type": "code",
   "execution_count": 26,
   "metadata": {},
   "outputs": [],
   "source": [
    "import statsmodels.api as sm"
   ]
  },
  {
   "cell_type": "code",
   "execution_count": 27,
   "metadata": {},
   "outputs": [],
   "source": [
    "data=pd.read_excel('exotic_rawdata.xlsx')\n",
    "df=data.copy().set_index('Date')"
   ]
  },
  {
   "cell_type": "code",
   "execution_count": 28,
   "metadata": {},
   "outputs": [
    {
     "data": {
      "text/html": [
       "<div>\n",
       "<style scoped>\n",
       "    .dataframe tbody tr th:only-of-type {\n",
       "        vertical-align: middle;\n",
       "    }\n",
       "\n",
       "    .dataframe tbody tr th {\n",
       "        vertical-align: top;\n",
       "    }\n",
       "\n",
       "    .dataframe thead th {\n",
       "        text-align: right;\n",
       "    }\n",
       "</style>\n",
       "<table border=\"1\" class=\"dataframe\">\n",
       "  <thead>\n",
       "    <tr style=\"text-align: right;\">\n",
       "      <th></th>\n",
       "      <th>MXWD Index</th>\n",
       "      <th>HSCEI Index</th>\n",
       "    </tr>\n",
       "    <tr>\n",
       "      <th>Date</th>\n",
       "      <th></th>\n",
       "      <th></th>\n",
       "    </tr>\n",
       "  </thead>\n",
       "  <tbody>\n",
       "    <tr>\n",
       "      <th>1996-01-01</th>\n",
       "      <td>181.90</td>\n",
       "      <td>3287.68</td>\n",
       "    </tr>\n",
       "    <tr>\n",
       "      <th>1996-01-02</th>\n",
       "      <td>182.75</td>\n",
       "      <td>3295.58</td>\n",
       "    </tr>\n",
       "    <tr>\n",
       "      <th>1996-01-03</th>\n",
       "      <td>183.71</td>\n",
       "      <td>3464.41</td>\n",
       "    </tr>\n",
       "    <tr>\n",
       "      <th>1996-01-04</th>\n",
       "      <td>183.98</td>\n",
       "      <td>3829.26</td>\n",
       "    </tr>\n",
       "    <tr>\n",
       "      <th>1996-01-05</th>\n",
       "      <td>184.46</td>\n",
       "      <td>3904.47</td>\n",
       "    </tr>\n",
       "    <tr>\n",
       "      <th>...</th>\n",
       "      <td>...</td>\n",
       "      <td>...</td>\n",
       "    </tr>\n",
       "    <tr>\n",
       "      <th>2022-08-17</th>\n",
       "      <td>655.07</td>\n",
       "      <td>6755.31</td>\n",
       "    </tr>\n",
       "    <tr>\n",
       "      <th>2022-08-18</th>\n",
       "      <td>655.39</td>\n",
       "      <td>6700.42</td>\n",
       "    </tr>\n",
       "    <tr>\n",
       "      <th>2022-08-19</th>\n",
       "      <td>646.81</td>\n",
       "      <td>6719.88</td>\n",
       "    </tr>\n",
       "    <tr>\n",
       "      <th>2022-08-22</th>\n",
       "      <td>635.46</td>\n",
       "      <td>6695.29</td>\n",
       "    </tr>\n",
       "    <tr>\n",
       "      <th>2022-08-23</th>\n",
       "      <td>635.46</td>\n",
       "      <td>6648.85</td>\n",
       "    </tr>\n",
       "  </tbody>\n",
       "</table>\n",
       "<p>6952 rows × 2 columns</p>\n",
       "</div>"
      ],
      "text/plain": [
       "            MXWD Index  HSCEI Index\n",
       "Date                               \n",
       "1996-01-01      181.90      3287.68\n",
       "1996-01-02      182.75      3295.58\n",
       "1996-01-03      183.71      3464.41\n",
       "1996-01-04      183.98      3829.26\n",
       "1996-01-05      184.46      3904.47\n",
       "...                ...          ...\n",
       "2022-08-17      655.07      6755.31\n",
       "2022-08-18      655.39      6700.42\n",
       "2022-08-19      646.81      6719.88\n",
       "2022-08-22      635.46      6695.29\n",
       "2022-08-23      635.46      6648.85\n",
       "\n",
       "[6952 rows x 2 columns]"
      ]
     },
     "execution_count": 28,
     "metadata": {},
     "output_type": "execute_result"
    }
   ],
   "source": [
    "df.columns\n",
    "df[['MXWD Index', 'HSCEI Index']]"
   ]
  },
  {
   "cell_type": "code",
   "execution_count": 29,
   "metadata": {},
   "outputs": [],
   "source": [
    "x=data['MXWD Index'].tolist()\n",
    "y=data['HSCEI Index'].tolist()"
   ]
  },
  {
   "cell_type": "code",
   "execution_count": 30,
   "metadata": {},
   "outputs": [
    {
     "data": {
      "text/plain": [
       "array([[  1.  , 181.9 ],\n",
       "       [  1.  , 182.75],\n",
       "       [  1.  , 183.71],\n",
       "       ...,\n",
       "       [  1.  , 646.81],\n",
       "       [  1.  , 635.46],\n",
       "       [  1.  , 635.46]])"
      ]
     },
     "execution_count": 30,
     "metadata": {},
     "output_type": "execute_result"
    }
   ],
   "source": [
    "x = sm.add_constant(x)"
   ]
  },
  {
   "cell_type": "code",
   "execution_count": 31,
   "metadata": {},
   "outputs": [
    {
     "name": "stdout",
     "output_type": "stream",
     "text": [
      "                            OLS Regression Results                            \n",
      "==============================================================================\n",
      "Dep. Variable:                      y   R-squared:                       0.303\n",
      "Model:                            OLS   Adj. R-squared:                  0.303\n",
      "Method:                 Least Squares   F-statistic:                     3022.\n",
      "Date:                Tue, 07 Feb 2023   Prob (F-statistic):               0.00\n",
      "Time:                        23:47:03   Log-Likelihood:                -66348.\n",
      "No. Observations:                6952   AIC:                         1.327e+05\n",
      "Df Residuals:                    6950   BIC:                         1.327e+05\n",
      "Df Model:                           1                                         \n",
      "Covariance Type:            nonrobust                                         \n",
      "==============================================================================\n",
      "                 coef    std err          t      P>|t|      [0.025      0.975]\n",
      "------------------------------------------------------------------------------\n",
      "const       1661.3675    117.623     14.125      0.000    1430.791    1891.945\n",
      "x1            16.9592      0.308     54.976      0.000      16.354      17.564\n",
      "==============================================================================\n",
      "Omnibus:                      279.466   Durbin-Watson:                   0.002\n",
      "Prob(Omnibus):                  0.000   Jarque-Bera (JB):              163.724\n",
      "Skew:                           0.229   Prob(JB):                     2.80e-36\n",
      "Kurtosis:                       2.403   Cond. No.                     1.11e+03\n",
      "==============================================================================\n",
      "\n",
      "Notes:\n",
      "[1] Standard Errors assume that the covariance matrix of the errors is correctly specified.\n",
      "[2] The condition number is large, 1.11e+03. This might indicate that there are\n",
      "strong multicollinearity or other numerical problems.\n"
     ]
    }
   ],
   "source": [
    "result = sm.OLS(y, x).fit()\n",
    "print(result.summary())"
   ]
  },
  {
   "cell_type": "code",
   "execution_count": null,
   "metadata": {},
   "outputs": [],
   "source": []
  }
 ],
 "metadata": {
  "kernelspec": {
   "display_name": "Python 3",
   "language": "python",
   "name": "python3"
  },
  "language_info": {
   "codemirror_mode": {
    "name": "ipython",
    "version": 3
   },
   "file_extension": ".py",
   "mimetype": "text/x-python",
   "name": "python",
   "nbconvert_exporter": "python",
   "pygments_lexer": "ipython3",
   "version": "3.10.5"
  },
  "orig_nbformat": 4,
  "vscode": {
   "interpreter": {
    "hash": "afb734500600fd355917ca529030176ea0ca205570884b88f2f6f7d791fd3fbe"
   }
  }
 },
 "nbformat": 4,
 "nbformat_minor": 2
}
